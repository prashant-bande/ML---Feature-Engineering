{
 "cells": [
  {
   "cell_type": "code",
   "execution_count": 7,
   "metadata": {},
   "outputs": [],
   "source": [
    "import pandas as pd\n",
    "from sklearn.ensemble import RandomForestClassifier\n",
    "from sklearn import metrics\n",
    "import numpy as np"
   ]
  },
  {
   "cell_type": "code",
   "execution_count": 2,
   "metadata": {},
   "outputs": [],
   "source": [
    "data = pd.read_csv('german_credit.csv')"
   ]
  },
  {
   "cell_type": "markdown",
   "metadata": {},
   "source": [
    "## Feature importance:\n",
    "- use decision tree classifiers to find the relative importance of the features\n",
    "- These importance values can be used to inform a feature selection process."
   ]
  },
  {
   "cell_type": "code",
   "execution_count": 6,
   "metadata": {},
   "outputs": [
    {
     "name": "stdout",
     "output_type": "stream",
     "text": [
      "[0.12689479 0.09685797 0.05581169 0.061145   0.142556   0.04732479\n",
      " 0.05096343 0.04116976 0.0362849  0.01631357 0.04774687 0.03821556\n",
      " 0.10748535 0.01597799 0.02453943 0.02408641 0.02888386 0.01614243\n",
      " 0.01640286 0.00519733]\n"
     ]
    }
   ],
   "source": [
    "X, y = data.loc[:, data.columns!='Creditability'], data['Creditability']\n",
    "\n",
    "model = RandomForestClassifier(n_jobs=2, random_state=0)\n",
    "model.fit(X, y)\n",
    "# display the relative importance of each attribute\n",
    "print(model.feature_importances_)"
   ]
  },
  {
   "cell_type": "code",
   "execution_count": 11,
   "metadata": {},
   "outputs": [
    {
     "data": {
      "text/html": [
       "<div>\n",
       "<style scoped>\n",
       "    .dataframe tbody tr th:only-of-type {\n",
       "        vertical-align: middle;\n",
       "    }\n",
       "\n",
       "    .dataframe tbody tr th {\n",
       "        vertical-align: top;\n",
       "    }\n",
       "\n",
       "    .dataframe thead th {\n",
       "        text-align: right;\n",
       "    }\n",
       "</style>\n",
       "<table border=\"1\" class=\"dataframe\">\n",
       "  <thead>\n",
       "    <tr style=\"text-align: right;\">\n",
       "      <th></th>\n",
       "      <th>Gini-importance</th>\n",
       "    </tr>\n",
       "  </thead>\n",
       "  <tbody>\n",
       "    <tr>\n",
       "      <th>Credit Amount</th>\n",
       "      <td>0.142556</td>\n",
       "    </tr>\n",
       "    <tr>\n",
       "      <th>Account Balance</th>\n",
       "      <td>0.126895</td>\n",
       "    </tr>\n",
       "    <tr>\n",
       "      <th>Age (years)</th>\n",
       "      <td>0.107485</td>\n",
       "    </tr>\n",
       "    <tr>\n",
       "      <th>Duration of Credit (month)</th>\n",
       "      <td>0.096858</td>\n",
       "    </tr>\n",
       "    <tr>\n",
       "      <th>Purpose</th>\n",
       "      <td>0.061145</td>\n",
       "    </tr>\n",
       "    <tr>\n",
       "      <th>Payment Status of Previous Credit</th>\n",
       "      <td>0.055812</td>\n",
       "    </tr>\n",
       "    <tr>\n",
       "      <th>Length of current employment</th>\n",
       "      <td>0.050963</td>\n",
       "    </tr>\n",
       "    <tr>\n",
       "      <th>Duration in Current address</th>\n",
       "      <td>0.047747</td>\n",
       "    </tr>\n",
       "    <tr>\n",
       "      <th>Value Savings/Stocks</th>\n",
       "      <td>0.047325</td>\n",
       "    </tr>\n",
       "    <tr>\n",
       "      <th>Instalment per cent</th>\n",
       "      <td>0.041170</td>\n",
       "    </tr>\n",
       "    <tr>\n",
       "      <th>Most valuable available asset</th>\n",
       "      <td>0.038216</td>\n",
       "    </tr>\n",
       "    <tr>\n",
       "      <th>Sex &amp; Marital Status</th>\n",
       "      <td>0.036285</td>\n",
       "    </tr>\n",
       "    <tr>\n",
       "      <th>Occupation</th>\n",
       "      <td>0.028884</td>\n",
       "    </tr>\n",
       "    <tr>\n",
       "      <th>Type of apartment</th>\n",
       "      <td>0.024539</td>\n",
       "    </tr>\n",
       "    <tr>\n",
       "      <th>No of Credits at this Bank</th>\n",
       "      <td>0.024086</td>\n",
       "    </tr>\n",
       "    <tr>\n",
       "      <th>Telephone</th>\n",
       "      <td>0.016403</td>\n",
       "    </tr>\n",
       "    <tr>\n",
       "      <th>Guarantors</th>\n",
       "      <td>0.016314</td>\n",
       "    </tr>\n",
       "    <tr>\n",
       "      <th>No of dependents</th>\n",
       "      <td>0.016142</td>\n",
       "    </tr>\n",
       "    <tr>\n",
       "      <th>Concurrent Credits</th>\n",
       "      <td>0.015978</td>\n",
       "    </tr>\n",
       "    <tr>\n",
       "      <th>Foreign Worker</th>\n",
       "      <td>0.005197</td>\n",
       "    </tr>\n",
       "  </tbody>\n",
       "</table>\n",
       "</div>"
      ],
      "text/plain": [
       "                                   Gini-importance\n",
       "Credit Amount                             0.142556\n",
       "Account Balance                           0.126895\n",
       "Age (years)                               0.107485\n",
       "Duration of Credit (month)                0.096858\n",
       "Purpose                                   0.061145\n",
       "Payment Status of Previous Credit         0.055812\n",
       "Length of current employment              0.050963\n",
       "Duration in Current address               0.047747\n",
       "Value Savings/Stocks                      0.047325\n",
       "Instalment per cent                       0.041170\n",
       "Most valuable available asset             0.038216\n",
       "Sex & Marital Status                      0.036285\n",
       "Occupation                                0.028884\n",
       "Type of apartment                         0.024539\n",
       "No of Credits at this Bank                0.024086\n",
       "Telephone                                 0.016403\n",
       "Guarantors                                0.016314\n",
       "No of dependents                          0.016142\n",
       "Concurrent Credits                        0.015978\n",
       "Foreign Worker                            0.005197"
      ]
     },
     "execution_count": 11,
     "metadata": {},
     "output_type": "execute_result"
    }
   ],
   "source": [
    "feats = {} # a dict to hold feature_name: feature_importance\n",
    "for feature, importance in zip(X.columns, model.feature_importances_):\n",
    "    feats[feature] = importance #add the name/value pair \n",
    "\n",
    "importances = pd.DataFrame.from_dict(feats, orient='index').rename(columns={0: 'Gini-importance'})\n",
    "importances.sort_values(by='Gini-importance', ascending=False)"
   ]
  }
 ],
 "metadata": {
  "kernelspec": {
   "display_name": "Python 3",
   "language": "python",
   "name": "python3"
  },
  "language_info": {
   "codemirror_mode": {
    "name": "ipython",
    "version": 3
   },
   "file_extension": ".py",
   "mimetype": "text/x-python",
   "name": "python",
   "nbconvert_exporter": "python",
   "pygments_lexer": "ipython3",
   "version": "3.7.0"
  }
 },
 "nbformat": 4,
 "nbformat_minor": 2
}
